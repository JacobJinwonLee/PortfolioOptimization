{
 "cells": [
  {
   "cell_type": "code",
   "execution_count": 1,
   "metadata": {},
   "outputs": [
    {
     "name": "stderr",
     "output_type": "stream",
     "text": [
      "C:\\ProgramData\\Anaconda3\\lib\\site-packages\\pyfolio\\pos.py:27: UserWarning: Module \"zipline.assets\" not found; mutltipliers will not be applied to position notionals.\n",
      "  'Module \"zipline.assets\" not found; mutltipliers will not be applied' +\n"
     ]
    }
   ],
   "source": [
    "import pandas as pd\n",
    "import pandas_datareader.data as web\n",
    "import datetime\n",
    "import backtrader as bt\n",
    "import numpy as np\n",
    "%matplotlib inline\n",
    "import matplotlib.pyplot as plt\n",
    "import pyfolio as pf\n",
    "import quantstats\n",
    "plt.rcParams[\"figure.figsize\"] = (10, 6) # (w, h)\n",
    "import sys\n",
    "from scipy.stats import rankdata\n",
    "from scipy.stats import stats\n",
    "from scipy.optimize import minimize"
   ]
  },
  {
   "cell_type": "markdown",
   "metadata": {},
   "source": [
    "종목의 포트폴리오에 대한 위험 기여도(Risk Contribution)는 개별 종목 비중과 그 종목의 한계 위험 기여도(Marginal Risk Contribution)의 곱으로 나타납니다. 한계 위험 기여도는 종목 비중 1단위 증가 시 포트폴리오 변동성 증가량을 의미합니다. 위험 균형(Risk Parity) 전략은 포트폴리오 내 종목들의 위험 기여도가 같도록 하는 것이 목적입니다. 위험 기여도 계산을 위해서는 과거 수익률 데이터와 수익률 데이터의 공분산 행렬이 필요합니다. 미국 주식, 선진국 주식, 신흥국 주식, 전세계 채권, 미국 중기 국채, 미국 장기 국채, 미국 회사채, 미국 물가채, 금, 원자재, 미국 부동산(리츠) 데이터를 사용합니다."
   ]
  },
  {
   "cell_type": "code",
   "execution_count": 2,
   "metadata": {},
   "outputs": [],
   "source": [
    "start = '2006-08-01'\n",
    "end = '2021-02-15'\n",
    "\n",
    "vtsmx = web.DataReader(\"VTSMX\", 'yahoo', start, end)['Adj Close'].to_frame(\"vtsmx\")\n",
    "vtmgx = web.DataReader(\"VTMGX\", 'yahoo', start, end)['Adj Close'].to_frame(\"vtmgx\")\n",
    "veiex = web.DataReader(\"VEIEX\", 'yahoo', start, end)['Adj Close'].to_frame(\"veiex\")\n",
    "pgbix = web.DataReader(\"PGBIX\", 'yahoo', start, end)['Adj Close'].to_frame(\"pgbix\")\n",
    "vfitx = web.DataReader(\"VFITX\", 'yahoo', start, end)['Adj Close'].to_frame(\"vfitx\")\n",
    "vustx = web.DataReader(\"VUSTX\", 'yahoo', start, end)['Adj Close'].to_frame(\"vustx\")\n",
    "lqd = web.DataReader(\"LQD\", 'yahoo', start, end)['Adj Close'].to_frame(\"lqd\")\n",
    "tip = web.DataReader(\"TIP\", 'yahoo', start, end)['Adj Close'].to_frame(\"tip\")\n",
    "iau = web.DataReader(\"IAU\", 'yahoo', start, end)['Adj Close'].to_frame(\"iau\")\n",
    "gsg = web.DataReader(\"GSG\", 'yahoo', start, end)['Adj Close'].to_frame(\"gsg\")\n",
    "vgsix = web.DataReader(\"VGSIX\", 'yahoo', start, end)['Adj Close'].to_frame(\"vgsix\")"
   ]
  },
  {
   "cell_type": "code",
   "execution_count": 3,
   "metadata": {},
   "outputs": [],
   "source": [
    "price_df = pd.concat([vtsmx, vtmgx, veiex, pgbix, vfitx, vustx, lqd, tip, iau, gsg, vgsix], axis=1)\n",
    "return_df = price_df.pct_change().dropna(axis=0)"
   ]
  },
  {
   "cell_type": "code",
   "execution_count": 4,
   "metadata": {},
   "outputs": [
    {
     "data": {
      "text/html": [
       "<div>\n",
       "<style scoped>\n",
       "    .dataframe tbody tr th:only-of-type {\n",
       "        vertical-align: middle;\n",
       "    }\n",
       "\n",
       "    .dataframe tbody tr th {\n",
       "        vertical-align: top;\n",
       "    }\n",
       "\n",
       "    .dataframe thead th {\n",
       "        text-align: right;\n",
       "    }\n",
       "</style>\n",
       "<table border=\"1\" class=\"dataframe\">\n",
       "  <thead>\n",
       "    <tr style=\"text-align: right;\">\n",
       "      <th></th>\n",
       "      <th>vtsmx</th>\n",
       "      <th>vtmgx</th>\n",
       "      <th>veiex</th>\n",
       "      <th>pgbix</th>\n",
       "      <th>vfitx</th>\n",
       "      <th>vustx</th>\n",
       "      <th>lqd</th>\n",
       "      <th>tip</th>\n",
       "      <th>iau</th>\n",
       "      <th>gsg</th>\n",
       "      <th>vgsix</th>\n",
       "    </tr>\n",
       "  </thead>\n",
       "  <tbody>\n",
       "    <tr>\n",
       "      <th>vtsmx</th>\n",
       "      <td>0.000172</td>\n",
       "      <td>0.000158</td>\n",
       "      <td>0.000163</td>\n",
       "      <td>-0.000004</td>\n",
       "      <td>-0.000016</td>\n",
       "      <td>-0.000045</td>\n",
       "      <td>0.000010</td>\n",
       "      <td>-1.038789e-05</td>\n",
       "      <td>0.000005</td>\n",
       "      <td>8.837801e-05</td>\n",
       "      <td>0.000216</td>\n",
       "    </tr>\n",
       "    <tr>\n",
       "      <th>vtmgx</th>\n",
       "      <td>0.000158</td>\n",
       "      <td>0.000182</td>\n",
       "      <td>0.000176</td>\n",
       "      <td>-0.000004</td>\n",
       "      <td>-0.000014</td>\n",
       "      <td>-0.000041</td>\n",
       "      <td>0.000013</td>\n",
       "      <td>-6.561414e-06</td>\n",
       "      <td>0.000021</td>\n",
       "      <td>9.917475e-05</td>\n",
       "      <td>0.000193</td>\n",
       "    </tr>\n",
       "    <tr>\n",
       "      <th>veiex</th>\n",
       "      <td>0.000163</td>\n",
       "      <td>0.000176</td>\n",
       "      <td>0.000218</td>\n",
       "      <td>-0.000004</td>\n",
       "      <td>-0.000016</td>\n",
       "      <td>-0.000043</td>\n",
       "      <td>0.000013</td>\n",
       "      <td>-7.553274e-06</td>\n",
       "      <td>0.000022</td>\n",
       "      <td>1.107803e-04</td>\n",
       "      <td>0.000201</td>\n",
       "    </tr>\n",
       "    <tr>\n",
       "      <th>pgbix</th>\n",
       "      <td>-0.000004</td>\n",
       "      <td>-0.000004</td>\n",
       "      <td>-0.000004</td>\n",
       "      <td>0.000006</td>\n",
       "      <td>0.000004</td>\n",
       "      <td>0.000009</td>\n",
       "      <td>0.000005</td>\n",
       "      <td>4.401081e-06</td>\n",
       "      <td>0.000003</td>\n",
       "      <td>-3.153555e-06</td>\n",
       "      <td>-0.000005</td>\n",
       "    </tr>\n",
       "    <tr>\n",
       "      <th>vfitx</th>\n",
       "      <td>-0.000016</td>\n",
       "      <td>-0.000014</td>\n",
       "      <td>-0.000016</td>\n",
       "      <td>0.000004</td>\n",
       "      <td>0.000009</td>\n",
       "      <td>0.000021</td>\n",
       "      <td>0.000006</td>\n",
       "      <td>8.326408e-06</td>\n",
       "      <td>0.000006</td>\n",
       "      <td>-9.691218e-06</td>\n",
       "      <td>-0.000015</td>\n",
       "    </tr>\n",
       "    <tr>\n",
       "      <th>vustx</th>\n",
       "      <td>-0.000045</td>\n",
       "      <td>-0.000041</td>\n",
       "      <td>-0.000043</td>\n",
       "      <td>0.000009</td>\n",
       "      <td>0.000021</td>\n",
       "      <td>0.000068</td>\n",
       "      <td>0.000020</td>\n",
       "      <td>2.196225e-05</td>\n",
       "      <td>0.000016</td>\n",
       "      <td>-3.235389e-05</td>\n",
       "      <td>-0.000040</td>\n",
       "    </tr>\n",
       "    <tr>\n",
       "      <th>lqd</th>\n",
       "      <td>0.000010</td>\n",
       "      <td>0.000013</td>\n",
       "      <td>0.000013</td>\n",
       "      <td>0.000005</td>\n",
       "      <td>0.000006</td>\n",
       "      <td>0.000020</td>\n",
       "      <td>0.000031</td>\n",
       "      <td>9.942243e-06</td>\n",
       "      <td>0.000008</td>\n",
       "      <td>6.299333e-06</td>\n",
       "      <td>0.000013</td>\n",
       "    </tr>\n",
       "    <tr>\n",
       "      <th>tip</th>\n",
       "      <td>-0.000010</td>\n",
       "      <td>-0.000007</td>\n",
       "      <td>-0.000008</td>\n",
       "      <td>0.000004</td>\n",
       "      <td>0.000008</td>\n",
       "      <td>0.000022</td>\n",
       "      <td>0.000010</td>\n",
       "      <td>1.560001e-05</td>\n",
       "      <td>0.000011</td>\n",
       "      <td>9.473655e-07</td>\n",
       "      <td>-0.000011</td>\n",
       "    </tr>\n",
       "    <tr>\n",
       "      <th>iau</th>\n",
       "      <td>0.000005</td>\n",
       "      <td>0.000021</td>\n",
       "      <td>0.000022</td>\n",
       "      <td>0.000003</td>\n",
       "      <td>0.000006</td>\n",
       "      <td>0.000016</td>\n",
       "      <td>0.000008</td>\n",
       "      <td>1.122891e-05</td>\n",
       "      <td>0.000131</td>\n",
       "      <td>4.546024e-05</td>\n",
       "      <td>0.000006</td>\n",
       "    </tr>\n",
       "    <tr>\n",
       "      <th>gsg</th>\n",
       "      <td>0.000088</td>\n",
       "      <td>0.000099</td>\n",
       "      <td>0.000111</td>\n",
       "      <td>-0.000003</td>\n",
       "      <td>-0.000010</td>\n",
       "      <td>-0.000032</td>\n",
       "      <td>0.000006</td>\n",
       "      <td>9.473655e-07</td>\n",
       "      <td>0.000045</td>\n",
       "      <td>2.245168e-04</td>\n",
       "      <td>0.000093</td>\n",
       "    </tr>\n",
       "    <tr>\n",
       "      <th>vgsix</th>\n",
       "      <td>0.000216</td>\n",
       "      <td>0.000193</td>\n",
       "      <td>0.000201</td>\n",
       "      <td>-0.000005</td>\n",
       "      <td>-0.000015</td>\n",
       "      <td>-0.000040</td>\n",
       "      <td>0.000013</td>\n",
       "      <td>-1.087058e-05</td>\n",
       "      <td>0.000006</td>\n",
       "      <td>9.307660e-05</td>\n",
       "      <td>0.000437</td>\n",
       "    </tr>\n",
       "  </tbody>\n",
       "</table>\n",
       "</div>"
      ],
      "text/plain": [
       "          vtsmx     vtmgx     veiex     pgbix     vfitx     vustx       lqd  \\\n",
       "vtsmx  0.000172  0.000158  0.000163 -0.000004 -0.000016 -0.000045  0.000010   \n",
       "vtmgx  0.000158  0.000182  0.000176 -0.000004 -0.000014 -0.000041  0.000013   \n",
       "veiex  0.000163  0.000176  0.000218 -0.000004 -0.000016 -0.000043  0.000013   \n",
       "pgbix -0.000004 -0.000004 -0.000004  0.000006  0.000004  0.000009  0.000005   \n",
       "vfitx -0.000016 -0.000014 -0.000016  0.000004  0.000009  0.000021  0.000006   \n",
       "vustx -0.000045 -0.000041 -0.000043  0.000009  0.000021  0.000068  0.000020   \n",
       "lqd    0.000010  0.000013  0.000013  0.000005  0.000006  0.000020  0.000031   \n",
       "tip   -0.000010 -0.000007 -0.000008  0.000004  0.000008  0.000022  0.000010   \n",
       "iau    0.000005  0.000021  0.000022  0.000003  0.000006  0.000016  0.000008   \n",
       "gsg    0.000088  0.000099  0.000111 -0.000003 -0.000010 -0.000032  0.000006   \n",
       "vgsix  0.000216  0.000193  0.000201 -0.000005 -0.000015 -0.000040  0.000013   \n",
       "\n",
       "                tip       iau           gsg     vgsix  \n",
       "vtsmx -1.038789e-05  0.000005  8.837801e-05  0.000216  \n",
       "vtmgx -6.561414e-06  0.000021  9.917475e-05  0.000193  \n",
       "veiex -7.553274e-06  0.000022  1.107803e-04  0.000201  \n",
       "pgbix  4.401081e-06  0.000003 -3.153555e-06 -0.000005  \n",
       "vfitx  8.326408e-06  0.000006 -9.691218e-06 -0.000015  \n",
       "vustx  2.196225e-05  0.000016 -3.235389e-05 -0.000040  \n",
       "lqd    9.942243e-06  0.000008  6.299333e-06  0.000013  \n",
       "tip    1.560001e-05  0.000011  9.473655e-07 -0.000011  \n",
       "iau    1.122891e-05  0.000131  4.546024e-05  0.000006  \n",
       "gsg    9.473655e-07  0.000045  2.245168e-04  0.000093  \n",
       "vgsix -1.087058e-05  0.000006  9.307660e-05  0.000437  "
      ]
     },
     "execution_count": 4,
     "metadata": {},
     "output_type": "execute_result"
    }
   ],
   "source": [
    "covmat = pd.DataFrame.cov(return_df)\n",
    "covmat"
   ]
  },
  {
   "cell_type": "markdown",
   "metadata": {},
   "source": [
    "비중과 공분산 행렬을 주면 위험 기여도(Risk Contribution)를 주는 함수입니다."
   ]
  },
  {
   "cell_type": "code",
   "execution_count": 5,
   "metadata": {},
   "outputs": [],
   "source": [
    "def RC(weight, covmat) :\n",
    "    weight = np.array(weight)\n",
    "    variance = weight.T @ covmat @ weight\n",
    "    sigma = variance ** 0.5\n",
    "    mrc = 1/sigma * (covmat @ weight)\n",
    "    rc = weight * mrc\n",
    "    rc = rc / rc.sum()\n",
    "    return(rc)"
   ]
  },
  {
   "cell_type": "markdown",
   "metadata": {},
   "source": [
    "가중치 x를 주면 위험 균형(Risk Parity)을 맞추기 위해서 각 자산별 위험 기여도 차이의 제곱합으로 쓰여지는 목적함수를 계산하고, 이론상으로 원하는 값인 0에 가까워지도록 최적화할 것입니다."
   ]
  },
  {
   "cell_type": "code",
   "execution_count": 6,
   "metadata": {},
   "outputs": [],
   "source": [
    "def RiskParityObjective(x) :\n",
    "    \n",
    "    variance = x.T @ covmat @ x\n",
    "    sigma = variance ** 0.5\n",
    "    mrc = 1/sigma * (covmat @ x)\n",
    "    rc = x * mrc\n",
    "    a = np.reshape(rc.to_numpy(), (len(rc), 1))\n",
    "    risk_diffs = a - a.T\n",
    "    # 1차원으로 풀어준 후에 제곱 -> 합 -> 목적함수\n",
    "    sum_risk_diffs_squared = np.sum(np.square(np.ravel(risk_diffs)))\n",
    "    return (sum_risk_diffs_squared)"
   ]
  },
  {
   "cell_type": "markdown",
   "metadata": {},
   "source": [
    "레버리지가 없고, 공매도를 하지 않으며, 항상 보유 자금 전액 투자하는 것으로 가정하여 종목별 비중 합이 1이고, 각 종목 비중이 0 이상이라고 가정합니다."
   ]
  },
  {
   "cell_type": "code",
   "execution_count": 7,
   "metadata": {},
   "outputs": [],
   "source": [
    "# 제약 조건: 비중 합 1\n",
    "def SumConstraint(x):\n",
    "    return (x.sum()-1.0)\n",
    "\n",
    "# 제약 조건: 비중 0 이상\n",
    "def LongOnly(x):\n",
    "    return(x)"
   ]
  },
  {
   "cell_type": "markdown",
   "metadata": {},
   "source": [
    "실제 최적화하는 부분입니다. 초기 비중, 제약 조건, 반복 횟수 등을 설정합니다."
   ]
  },
  {
   "cell_type": "code",
   "execution_count": 8,
   "metadata": {},
   "outputs": [],
   "source": [
    "def RiskParity(covmat) :\n",
    "    \n",
    "    x0 = np.repeat(1/covmat.shape[1], covmat.shape[1]) \n",
    "    constraints = ({'type': 'eq', 'fun': SumConstraint},\n",
    "                  {'type': 'ineq', 'fun': LongOnly})\n",
    "    options = {'ftol': 1e-20, 'maxiter': 2000}\n",
    "    \n",
    "    result = minimize(fun = RiskParityObjective,\n",
    "                      x0 = x0,\n",
    "                      method = 'SLSQP',\n",
    "                      constraints = constraints,\n",
    "                      options = options)\n",
    "    return(result.x)"
   ]
  },
  {
   "cell_type": "markdown",
   "metadata": {},
   "source": [
    "위험 균형을 맞춘 종목별 가중치입니다. 대체로 변동성이 큰 주식, 리츠 자산군 비중이 낮고, 대체로 변동성이 낮은 국채 등 채권 자산군 비중이 높게 나옵니다."
   ]
  },
  {
   "cell_type": "code",
   "execution_count": 9,
   "metadata": {},
   "outputs": [
    {
     "data": {
      "text/plain": [
       "array([0.04310311, 0.03784878, 0.0352768 , 0.25211797, 0.2135053 ,\n",
       "       0.08453533, 0.08353361, 0.12682572, 0.05369014, 0.04197046,\n",
       "       0.02759279])"
      ]
     },
     "execution_count": 9,
     "metadata": {},
     "output_type": "execute_result"
    }
   ],
   "source": [
    "RiskParity(covmat)"
   ]
  },
  {
   "cell_type": "markdown",
   "metadata": {},
   "source": [
    "위험 균형이 실제 구현이 된 것인지 확인합니다. 위에서 만들어 둔 RC 함수로 각 자산별 위험 기여도를 체크합니다. 11개 자산 모두 위험 기여도가 같게 나옵니다."
   ]
  },
  {
   "cell_type": "code",
   "execution_count": 10,
   "metadata": {},
   "outputs": [
    {
     "data": {
      "text/plain": [
       "vtsmx    0.090909\n",
       "vtmgx    0.090909\n",
       "veiex    0.090909\n",
       "pgbix    0.090909\n",
       "vfitx    0.090909\n",
       "vustx    0.090909\n",
       "lqd      0.090909\n",
       "tip      0.090909\n",
       "iau      0.090909\n",
       "gsg      0.090909\n",
       "vgsix    0.090909\n",
       "dtype: float64"
      ]
     },
     "execution_count": 10,
     "metadata": {},
     "output_type": "execute_result"
    }
   ],
   "source": [
    "weight_rp = RiskParity(covmat)\n",
    "\n",
    "RC(weight_rp, covmat)"
   ]
  },
  {
   "cell_type": "markdown",
   "metadata": {},
   "source": [
    "비교를 위해 동일 가중으로 한 경우 어떻게 되는지 보겠습니다."
   ]
  },
  {
   "cell_type": "code",
   "execution_count": 11,
   "metadata": {},
   "outputs": [
    {
     "data": {
      "text/plain": [
       "vtsmx    0.165359\n",
       "vtmgx    0.174111\n",
       "veiex    0.187322\n",
       "pgbix    0.002356\n",
       "vfitx   -0.003196\n",
       "vustx   -0.010265\n",
       "lqd      0.030348\n",
       "tip      0.008312\n",
       "iau      0.061594\n",
       "gsg      0.139916\n",
       "vgsix    0.244142\n",
       "dtype: float64"
      ]
     },
     "execution_count": 11,
     "metadata": {},
     "output_type": "execute_result"
    }
   ],
   "source": [
    "weight_equal = np.repeat(1/return_df.shape[1], return_df.shape[1])\n",
    "rc_equal = RC(weight_equal, covmat)\n",
    "\n",
    "rc_equal"
   ]
  },
  {
   "cell_type": "markdown",
   "metadata": {},
   "source": [
    "미국 주식(VTSMX), 선진국 주식(VTMGX), 신흥국 주식(VEIEX), 원자재(GSG), 미국 리츠(VGSIX) 5개 자산의 위험 기여도가 매우 높습니다. 비슷한 아이디어로, 자산배분의 기본 전략으로 알려진 주식 60 + 채권 40 전략은 주식이 대부분의 리스크를 가져갈 가능성이 높습니다. 실제 결과 상으로 미국 주식(VTSMX)이 99.975%, 미국 장기 국채(VUSTX)가 0.025% 리스크를 가져갑니다. 따라서, 채권 40%가 주식 60%의 위험을 제대로 막아주지 못하는 것입니다."
   ]
  },
  {
   "cell_type": "code",
   "execution_count": 12,
   "metadata": {},
   "outputs": [
    {
     "data": {
      "text/plain": [
       "vtsmx    0.999751\n",
       "vustx    0.000249\n",
       "dtype: float64"
      ]
     },
     "execution_count": 12,
     "metadata": {},
     "output_type": "execute_result"
    }
   ],
   "source": [
    "covmat_6040 = pd.DataFrame.cov(return_df[['vtsmx', 'vustx']])\n",
    "weight_6040 = np.array([0.6, 0.4])\n",
    "rc_6040 = RC(weight_6040, covmat_6040)\n",
    "\n",
    "rc_6040"
   ]
  }
 ],
 "metadata": {
  "kernelspec": {
   "display_name": "Python 3",
   "language": "python",
   "name": "python3"
  },
  "language_info": {
   "codemirror_mode": {
    "name": "ipython",
    "version": 3
   },
   "file_extension": ".py",
   "mimetype": "text/x-python",
   "name": "python",
   "nbconvert_exporter": "python",
   "pygments_lexer": "ipython3",
   "version": "3.7.6"
  }
 },
 "nbformat": 4,
 "nbformat_minor": 4
}
